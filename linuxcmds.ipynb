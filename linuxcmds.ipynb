{
  "nbformat": 4,
  "nbformat_minor": 0,
  "metadata": {
    "colab": {
      "provenance": [],
      "toc_visible": true,
      "authorship_tag": "ABX9TyO/fXsTvsY2dBsniKf69MXS",
      "include_colab_link": true
    },
    "kernelspec": {
      "name": "python3",
      "display_name": "Python 3"
    },
    "language_info": {
      "name": "python"
    }
  },
  "cells": [
    {
      "cell_type": "markdown",
      "metadata": {
        "id": "view-in-github",
        "colab_type": "text"
      },
      "source": [
        "<a href=\"https://colab.research.google.com/github/priyan212/Python/blob/main/linuxcmds.ipynb\" target=\"_parent\"><img src=\"https://colab.research.google.com/assets/colab-badge.svg\" alt=\"Open In Colab\"/></a>"
      ]
    },
    {
      "cell_type": "code",
      "execution_count": 1,
      "metadata": {
        "colab": {
          "base_uri": "https://localhost:8080/"
        },
        "id": "SAtWKA6N4uJX",
        "outputId": "8696b76a-f527-47fe-99c2-b8dcd0a69650"
      },
      "outputs": [
        {
          "output_type": "stream",
          "name": "stdout",
          "text": [
            "sample_data\n"
          ]
        }
      ],
      "source": [
        "!ls\n"
      ]
    },
    {
      "cell_type": "code",
      "source": [
        "!help\n"
      ],
      "metadata": {
        "colab": {
          "base_uri": "https://localhost:8080/"
        },
        "id": "i3jaoAPy44jd",
        "outputId": "3fde8e0b-995b-4bcb-991f-9935f1a3079b"
      },
      "execution_count": 2,
      "outputs": [
        {
          "output_type": "stream",
          "name": "stdout",
          "text": [
            "GNU bash, version 5.1.16(1)-release (x86_64-pc-linux-gnu)\n",
            "These shell commands are defined internally.  Type `help' to see this list.\n",
            "Type `help name' to find out more about the function `name'.\n",
            "Use `info bash' to find out more about the shell in general.\n",
            "Use `man -k' or `info' to find out more about commands not in this list.\n",
            "\n",
            "A star (*) next to a name means that the command is disabled.\n",
            "\n",
            " job_spec [&]                            history [-c] [-d offset] [n] or hist>\n",
            " (( expression ))                        if COMMANDS; then COMMANDS; [ elif C>\n",
            " . filename [arguments]                  jobs [-lnprs] [jobspec ...] or jobs >\n",
            " :                                       kill [-s sigspec | -n signum | -sigs>\n",
            " [ arg... ]                              let arg [arg ...]\n",
            " [[ expression ]]                        local [option] name[=value] ...\n",
            " alias [-p] [name[=value] ... ]          logout [n]\n",
            " bg [job_spec ...]                       mapfile [-d delim] [-n count] [-O or>\n",
            " bind [-lpsvPSVX] [-m keymap] [-f file>  popd [-n] [+N | -N]\n",
            " break [n]                               printf [-v var] format [arguments]\n",
            " builtin [shell-builtin [arg ...]]       pushd [-n] [+N | -N | dir]\n",
            " caller [expr]                           pwd [-LP]\n",
            " case WORD in [PATTERN [| PATTERN]...)>  read [-ers] [-a array] [-d delim] [->\n",
            " cd [-L|[-P [-e]] [-@]] [dir]            readarray [-d delim] [-n count] [-O >\n",
            " command [-pVv] command [arg ...]        readonly [-aAf] [name[=value] ...] o>\n",
            " compgen [-abcdefgjksuv] [-o option] [>  return [n]\n",
            " complete [-abcdefgjksuv] [-pr] [-DEI]>  select NAME [in WORDS ... ;] do COMM>\n",
            " compopt [-o|+o option] [-DEI] [name .>  set [-abefhkmnptuvxBCHP] [-o option->\n",
            " continue [n]                            shift [n]\n",
            " coproc [NAME] command [redirections]    shopt [-pqsu] [-o] [optname ...]\n",
            " declare [-aAfFgiIlnrtux] [-p] [name[=>  source filename [arguments]\n",
            " dirs [-clpv] [+N] [-N]                  suspend [-f]\n",
            " disown [-h] [-ar] [jobspec ... | pid >  test [expr]\n",
            " echo [-neE] [arg ...]                   time [-p] pipeline\n",
            " enable [-a] [-dnps] [-f filename] [na>  times\n",
            " eval [arg ...]                          trap [-lp] [[arg] signal_spec ...]\n",
            " exec [-cl] [-a name] [command [argume>  true\n",
            " exit [n]                                type [-afptP] name [name ...]\n",
            " export [-fn] [name[=value] ...] or ex>  typeset [-aAfFgiIlnrtux] [-p] name[=>\n",
            " false                                   ulimit [-SHabcdefiklmnpqrstuvxPT] [l>\n",
            " fc [-e ename] [-lnr] [first] [last] o>  umask [-p] [-S] [mode]\n",
            " fg [job_spec]                           unalias [-a] name [name ...]\n",
            " for NAME [in WORDS ... ] ; do COMMAND>  unset [-f] [-v] [-n] [name ...]\n",
            " for (( exp1; exp2; exp3 )); do COMMAN>  until COMMANDS; do COMMANDS; done\n",
            " function name { COMMANDS ; } or name >  variables - Names and meanings of so>\n",
            " getopts optstring name [arg ...]        wait [-fn] [-p var] [id ...]\n",
            " hash [-lr] [-p pathname] [-dt] [name >  while COMMANDS; do COMMANDS; done\n",
            " help [-dms] [pattern ...]               { COMMANDS ; }\n"
          ]
        }
      ]
    },
    {
      "cell_type": "code",
      "source": [
        "!pwd"
      ],
      "metadata": {
        "colab": {
          "base_uri": "https://localhost:8080/"
        },
        "id": "VYDaJZUU4-MY",
        "outputId": "770e69d7-85d3-4272-e479-84e7573baf94"
      },
      "execution_count": 3,
      "outputs": [
        {
          "output_type": "stream",
          "name": "stdout",
          "text": [
            "/content\n"
          ]
        }
      ]
    },
    {
      "cell_type": "code",
      "source": [
        "!uname -r"
      ],
      "metadata": {
        "colab": {
          "base_uri": "https://localhost:8080/"
        },
        "id": "2xRtytQX5FuP",
        "outputId": "25e01d6d-29ea-4e49-abfd-1bbad19e89c1"
      },
      "execution_count": 4,
      "outputs": [
        {
          "output_type": "stream",
          "name": "stdout",
          "text": [
            "6.1.123+\n"
          ]
        }
      ]
    },
    {
      "cell_type": "code",
      "source": [
        "!time"
      ],
      "metadata": {
        "colab": {
          "base_uri": "https://localhost:8080/"
        },
        "id": "OAyIACsW5OXm",
        "outputId": "c7506380-8c58-4684-8c6d-4b901d7694f7"
      },
      "execution_count": 5,
      "outputs": [
        {
          "output_type": "stream",
          "name": "stdout",
          "text": [
            "\n",
            "real\t0m0.000s\n",
            "user\t0m0.000s\n",
            "sys\t0m0.000s\n"
          ]
        }
      ]
    },
    {
      "cell_type": "code",
      "source": [
        "!ls -a"
      ],
      "metadata": {
        "colab": {
          "base_uri": "https://localhost:8080/"
        },
        "id": "M8Y59gaS5XjS",
        "outputId": "9e6d1289-4b23-48cb-cdf2-4197c603c9e5"
      },
      "execution_count": 6,
      "outputs": [
        {
          "output_type": "stream",
          "name": "stdout",
          "text": [
            ".  ..  .config\tsample_data\n"
          ]
        }
      ]
    },
    {
      "cell_type": "code",
      "source": [
        "!ls --color"
      ],
      "metadata": {
        "colab": {
          "base_uri": "https://localhost:8080/"
        },
        "id": "AXBiJIY95fSh",
        "outputId": "94671a7c-85a2-4e38-919e-25d28c1f59c6"
      },
      "execution_count": 8,
      "outputs": [
        {
          "output_type": "stream",
          "name": "stdout",
          "text": [
            "priyan.txt  \u001b[0m\u001b[01;34msample_data\u001b[0m\n"
          ]
        }
      ]
    },
    {
      "cell_type": "code",
      "source": [
        "!ls -l"
      ],
      "metadata": {
        "colab": {
          "base_uri": "https://localhost:8080/"
        },
        "id": "GnvEJZO855VF",
        "outputId": "56042842-7334-4c7e-d1ad-3e1460f3cedf"
      },
      "execution_count": 10,
      "outputs": [
        {
          "output_type": "stream",
          "name": "stdout",
          "text": [
            "total 4\n",
            "-rw-r--r-- 1 root root    0 Apr 28 05:37 priyan.txt\n",
            "drwxr-xr-x 1 root root 4096 Apr 24 18:20 sample_data\n"
          ]
        }
      ]
    },
    {
      "cell_type": "code",
      "source": [
        "import"
      ],
      "metadata": {
        "id": "pXMNQsDGEEH-"
      },
      "execution_count": 19,
      "outputs": []
    },
    {
      "cell_type": "code",
      "source": [
        "!ls d */\n"
      ],
      "metadata": {
        "colab": {
          "base_uri": "https://localhost:8080/"
        },
        "id": "J7evFlwb--Tj",
        "outputId": "15b7a283-a2fc-4ab9-e60a-fc5fd3759705"
      },
      "execution_count": 31,
      "outputs": [
        {
          "output_type": "stream",
          "name": "stdout",
          "text": [
            "ls: cannot access 'd': No such file or directory\n",
            "sample_data/:\n",
            "anscombe.json\t\t      mnist_test.csv\n",
            "california_housing_test.csv   mnist_train_small.csv\n",
            "california_housing_train.csv  README.md\n"
          ]
        }
      ]
    }
  ]
}