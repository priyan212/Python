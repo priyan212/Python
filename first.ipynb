{
  "nbformat": 4,
  "nbformat_minor": 0,
  "metadata": {
    "colab": {
      "provenance": [],
      "toc_visible": true,
      "authorship_tag": "ABX9TyMsBKwPeX98txOGUfUJl1PB",
      "include_colab_link": true
    },
    "kernelspec": {
      "name": "python3",
      "display_name": "Python 3"
    },
    "language_info": {
      "name": "python"
    }
  },
  "cells": [
    {
      "cell_type": "markdown",
      "metadata": {
        "id": "view-in-github",
        "colab_type": "text"
      },
      "source": [
        "<a href=\"https://colab.research.google.com/github/priyan212/Python/blob/main/first.ipynb\" target=\"_parent\"><img src=\"https://colab.research.google.com/assets/colab-badge.svg\" alt=\"Open In Colab\"/></a>"
      ]
    },
    {
      "cell_type": "markdown",
      "source": [
        "#print function"
      ],
      "metadata": {
        "id": "QUoA46GuR9Dj"
      }
    },
    {
      "cell_type": "code",
      "source": [
        "print( \"hello\"+ \"world\")"
      ],
      "metadata": {
        "colab": {
          "base_uri": "https://localhost:8080/"
        },
        "id": "_Onrh6HDRD6U",
        "outputId": "e1bc1d6b-357b-42a8-eb03-da0d4f400a8d"
      },
      "execution_count": null,
      "outputs": [
        {
          "output_type": "stream",
          "name": "stdout",
          "text": [
            "helloworld\n"
          ]
        }
      ]
    },
    {
      "cell_type": "code",
      "source": [
        "print(7+7)"
      ],
      "metadata": {
        "colab": {
          "base_uri": "https://localhost:8080/"
        },
        "id": "Uz1LXzmSRlVm",
        "outputId": "c6d88c83-202c-46c6-95ba-ed3b8d8b0a26"
      },
      "execution_count": null,
      "outputs": [
        {
          "output_type": "stream",
          "name": "stdout",
          "text": [
            "14\n"
          ]
        }
      ]
    },
    {
      "cell_type": "markdown",
      "source": [
        "#Basic data types\n",
        "immutable: int,bool,float,string,tuple\n"
      ],
      "metadata": {
        "id": "KofMEkIhTfSe"
      }
    },
    {
      "cell_type": "code",
      "source": [
        "type(9)"
      ],
      "metadata": {
        "colab": {
          "base_uri": "https://localhost:8080/"
        },
        "id": "OTfyJJhKTldw",
        "outputId": "42031f2c-b291-4b41-dd92-55cbb45def39"
      },
      "execution_count": null,
      "outputs": [
        {
          "output_type": "execute_result",
          "data": {
            "text/plain": [
              "int"
            ]
          },
          "metadata": {},
          "execution_count": 3
        }
      ]
    },
    {
      "cell_type": "code",
      "source": [],
      "metadata": {
        "id": "Q5ujSFaKUJ3M"
      },
      "execution_count": null,
      "outputs": []
    },
    {
      "cell_type": "markdown",
      "source": [
        "#Constant and Variable"
      ],
      "metadata": {
        "id": "TMh7cwyEUYoe"
      }
    },
    {
      "cell_type": "code",
      "source": [
        "#variable\n",
        "Superhero = 'iron man'\n",
        "print(Superhero)"
      ],
      "metadata": {
        "colab": {
          "base_uri": "https://localhost:8080/"
        },
        "id": "_4oxxAuPUebG",
        "outputId": "815ad679-0eca-4a5f-8c00-a26c91df141c"
      },
      "execution_count": null,
      "outputs": [
        {
          "output_type": "stream",
          "name": "stdout",
          "text": [
            "iron man\n"
          ]
        }
      ]
    },
    {
      "cell_type": "code",
      "source": [
        "number_1=int (input(\"Enter \"))\n",
        "print(number_1)"
      ],
      "metadata": {
        "colab": {
          "base_uri": "https://localhost:8080/"
        },
        "id": "xwjfs61fUotq",
        "outputId": "636b94d7-fc65-4d80-8b22-f21a890808da"
      },
      "execution_count": null,
      "outputs": [
        {
          "output_type": "stream",
          "name": "stdout",
          "text": [
            "Enter 2\n",
            "2\n"
          ]
        }
      ]
    },
    {
      "cell_type": "code",
      "source": [
        "myString = \"priyan malakar\"\n",
        "print(myString[0:10:2])"
      ],
      "metadata": {
        "colab": {
          "base_uri": "https://localhost:8080/"
        },
        "id": "pRj77T6nmp97",
        "outputId": "cf4ec1ab-ea0b-4a6c-ab76-41cdac5b45ac"
      },
      "execution_count": null,
      "outputs": [
        {
          "output_type": "stream",
          "name": "stdout",
          "text": [
            "pia a\n"
          ]
        }
      ]
    },
    {
      "cell_type": "code",
      "source": [
        "#concatenation\n",
        "word1= 'pepe '\n",
        "word2='shiddo'\n",
        "print(word1 + word2 )\n"
      ],
      "metadata": {
        "colab": {
          "base_uri": "https://localhost:8080/"
        },
        "id": "52A1JksViGSe",
        "outputId": "fea0c7ce-b5ba-46d4-8398-d01e7909125d"
      },
      "execution_count": null,
      "outputs": [
        {
          "output_type": "stream",
          "name": "stdout",
          "text": [
            "pepe shiddo\n"
          ]
        }
      ]
    },
    {
      "cell_type": "code",
      "source": [
        "#Boolean\n",
        "a=True\n",
        "b=False\n",
        "print(a)\n",
        "type(a)"
      ],
      "metadata": {
        "colab": {
          "base_uri": "https://localhost:8080/"
        },
        "id": "t_5Z7NNvizbW",
        "outputId": "ee81e85f-cd0d-4d01-c877-564f1be64d4b"
      },
      "execution_count": null,
      "outputs": [
        {
          "output_type": "stream",
          "name": "stdout",
          "text": [
            "True\n"
          ]
        },
        {
          "output_type": "execute_result",
          "data": {
            "text/plain": [
              "bool"
            ]
          },
          "metadata": {},
          "execution_count": 7
        }
      ]
    },
    {
      "cell_type": "markdown",
      "source": [
        "#mutable\n",
        "1.List\n",
        "2.set\n",
        "3.Dictoinary"
      ],
      "metadata": {
        "id": "D7sxUZ8JkQeQ"
      }
    },
    {
      "cell_type": "code",
      "source": [
        "  #list\n",
        "  myList =[1,2,3,4]\n",
        "  myList.append('hiiii')\n",
        "print(myList)\n",
        "type(myList)"
      ],
      "metadata": {
        "colab": {
          "base_uri": "https://localhost:8080/"
        },
        "id": "X9EEbff9kelp",
        "outputId": "7fea32e3-a1d1-4108-dd79-b6cdc9e4a9bc"
      },
      "execution_count": null,
      "outputs": [
        {
          "output_type": "stream",
          "name": "stdout",
          "text": [
            "[1, 2, 3, 4, 'hiiii']\n"
          ]
        },
        {
          "output_type": "execute_result",
          "data": {
            "text/plain": [
              "list"
            ]
          },
          "metadata": {},
          "execution_count": 14
        }
      ]
    },
    {
      "cell_type": "markdown",
      "source": [
        "Dictionary"
      ],
      "metadata": {
        "id": "aETO5uq8GeGj"
      }
    },
    {
      "cell_type": "code",
      "source": [
        "my_disct={'name':'priyan','age':20}\n",
        "print(my_disct)"
      ],
      "metadata": {
        "colab": {
          "base_uri": "https://localhost:8080/"
        },
        "id": "6cBGIqc1GddN",
        "outputId": "186eb01e-a7f5-4c29-df3e-a1be2c5146b8"
      },
      "execution_count": null,
      "outputs": [
        {
          "output_type": "stream",
          "name": "stdout",
          "text": [
            "{'name': 'priyan', 'age': 20}\n"
          ]
        }
      ]
    },
    {
      "cell_type": "code",
      "source": [
        "print(my_disct['name'])\n",
        "print(my_disct)"
      ],
      "metadata": {
        "colab": {
          "base_uri": "https://localhost:8080/"
        },
        "id": "asQS8eueG-vG",
        "outputId": "a0293070-a77e-4f1c-dfd3-a1a29f25a0ec"
      },
      "execution_count": null,
      "outputs": [
        {
          "output_type": "stream",
          "name": "stdout",
          "text": [
            "priyan\n",
            "{'name': 'priyan', 'age': 20}\n"
          ]
        }
      ]
    },
    {
      "cell_type": "code",
      "source": [
        "my_list=[1,2,3,4]\n",
        "my_list.append(5)\n",
        "print(my_list)\n",
        "type(my_list)"
      ],
      "metadata": {
        "colab": {
          "base_uri": "https://localhost:8080/"
        },
        "id": "5nNNQeObFeB9",
        "outputId": "de669f74-ec41-4973-e438-f7d04640bc7e"
      },
      "execution_count": null,
      "outputs": [
        {
          "output_type": "stream",
          "name": "stdout",
          "text": [
            "[1, 2, 3, 4, 5]\n"
          ]
        },
        {
          "output_type": "execute_result",
          "data": {
            "text/plain": [
              "list"
            ]
          },
          "metadata": {},
          "execution_count": 16
        }
      ]
    },
    {
      "cell_type": "markdown",
      "source": [
        "#immutable\n",
        "int,float,tupple,str,bool"
      ],
      "metadata": {
        "id": "vERZmH_XMEKL"
      }
    },
    {
      "cell_type": "code",
      "source": [
        "my_tuple=(1,2,3)\n",
        "print(my_tuple)\n",
        "type(my_tuple)"
      ],
      "metadata": {
        "colab": {
          "base_uri": "https://localhost:8080/"
        },
        "id": "JpIOMiWvMMA_",
        "outputId": "c93caf21-1bb9-4484-dbc6-fe71b84bb64f"
      },
      "execution_count": null,
      "outputs": [
        {
          "output_type": "stream",
          "name": "stdout",
          "text": [
            "(1, 2, 3)\n"
          ]
        },
        {
          "output_type": "execute_result",
          "data": {
            "text/plain": [
              "tuple"
            ]
          },
          "metadata": {},
          "execution_count": 2
        }
      ]
    },
    {
      "cell_type": "code",
      "source": [
        "print(my_tuple)"
      ],
      "metadata": {
        "id": "cMtm19PDPmSY",
        "colab": {
          "base_uri": "https://localhost:8080/"
        },
        "outputId": "4678a7ac-aa48-4a07-fa5c-0afa56fccbed"
      },
      "execution_count": null,
      "outputs": [
        {
          "output_type": "stream",
          "name": "stdout",
          "text": [
            "(1, 2, 3)\n"
          ]
        }
      ]
    },
    {
      "cell_type": "markdown",
      "source": [
        "#if else"
      ],
      "metadata": {
        "id": "KvkzTMn6WaU4"
      }
    },
    {
      "cell_type": "code",
      "source": [
        "a=int(input(\"Enter a:\"))\n",
        "b=int(input(\"Enter b:\"))\n",
        "if (a>b):\n",
        "  print(\"lesssssgoooo\")\n",
        "else:\n",
        "  print(\"Ohh nooo\")"
      ],
      "metadata": {
        "colab": {
          "base_uri": "https://localhost:8080/"
        },
        "id": "OhtbwpTuWdYf",
        "outputId": "fecb7efc-c160-49f4-e6dd-b1595b02b4b6"
      },
      "execution_count": null,
      "outputs": [
        {
          "output_type": "stream",
          "name": "stdout",
          "text": [
            "Enter a:1\n",
            "Enter b:2\n",
            "Ohh nooo\n"
          ]
        }
      ]
    },
    {
      "cell_type": "markdown",
      "source": [
        "# Loop"
      ],
      "metadata": {
        "id": "67DBBTAF3B95"
      }
    },
    {
      "cell_type": "markdown",
      "source": [
        "for loop"
      ],
      "metadata": {
        "id": "MlCyppyU3G-x"
      }
    },
    {
      "cell_type": "code",
      "source": [
        "for i in range(5):\n",
        "  print(\"hello\")"
      ],
      "metadata": {
        "colab": {
          "base_uri": "https://localhost:8080/"
        },
        "id": "704MEb7B3JJG",
        "outputId": "740a8485-f69a-48d8-860d-0d2819defc91"
      },
      "execution_count": null,
      "outputs": [
        {
          "output_type": "stream",
          "name": "stdout",
          "text": [
            "hello\n",
            "hello\n",
            "hello\n",
            "hello\n",
            "hello\n"
          ]
        }
      ]
    },
    {
      "cell_type": "code",
      "source": [
        "for i in range(5):\n",
        "  a=int(input(\"Enter a\"))"
      ],
      "metadata": {
        "colab": {
          "base_uri": "https://localhost:8080/"
        },
        "id": "Z8M2KZYa3f7A",
        "outputId": "8dac4c82-9ed3-460e-c373-4c7b8999a4d3"
      },
      "execution_count": null,
      "outputs": [
        {
          "name": "stdout",
          "output_type": "stream",
          "text": [
            "Enter a5\n",
            "Enter a6\n",
            "Enter a7\n",
            "Enter a8\n",
            "Enter a9\n"
          ]
        }
      ]
    },
    {
      "cell_type": "code",
      "source": [
        "class Animal:\n",
        "    def sound(self):\n",
        "        print(\"Animal makes a sound\")\n",
        "\n",
        "class Dog(Animal):  # Dog inherits from Animal\n",
        "    def bark(self):\n",
        "        print(\"Dog barks\")\n",
        "        class Cat(Animal):  # Cat inherits from Animal\n",
        "            def meow(self):\n",
        "                print(\"Cat meows\")\n",
        "\n",
        "        # Create instances of Dog and Cat\n",
        "        dog = Dog()\n",
        "        cat = Cat()\n",
        "\n",
        "        # Call their respective methods\n",
        "        dog.sound()\n",
        "        dog.bark()\n",
        "        cat.sound()\n",
        "        cat.meow()"
      ],
      "metadata": {
        "id": "ZcUS_9vzO5ch"
      },
      "execution_count": 2,
      "outputs": []
    },
    {
      "cell_type": "code",
      "source": [
        "import queue\n",
        "\n",
        "priority_q = queue.PriorityQueue()\n",
        "\n",
        "# Insert items as (priority, data)\n",
        "priority_q.put((3, 'Low priority'))\n",
        "priority_q.put((1, 'High priority'))\n",
        "priority_q.put((2, 'Medium priority'))\n",
        "\n",
        "# Remove items in priority order\n",
        "while not priority_q.empty():\n",
        "    print(priority_q.get())\n"
      ],
      "metadata": {
        "colab": {
          "base_uri": "https://localhost:8080/"
        },
        "id": "8j7vWl5UwPVA",
        "outputId": "73ecb44a-eb06-4bd7-8f6c-082e1732043c"
      },
      "execution_count": 1,
      "outputs": [
        {
          "output_type": "stream",
          "name": "stdout",
          "text": [
            "(1, 'High priority')\n",
            "(2, 'Medium priority')\n",
            "(3, 'Low priority')\n"
          ]
        }
      ]
    }
  ]
}